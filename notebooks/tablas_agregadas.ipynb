{
 "cells": [
  {
   "cell_type": "markdown",
   "id": "subtle-humanitarian",
   "metadata": {},
   "source": [
    "- Si integro a la mujer en la educación, entonces se potencia el desarrollo de los países, porque habrá más mujeres en puestos de responsabilidad\n",
    "\n",
    "- Para poder validarlo, neesitamos validar que los paises con más mujeres en puestos de responsabilidad están más desarrollados. También ver si hay relación entre ello, es decir, a medido que hay más mujeres aumenta el desarrollo. \n",
    "\n",
    "- Si validamos esto, tenemos que validar después qué relación hay entre el incremento de la mujer en la educación frente al incremento de mujeres en puestos de responsabilidad."
   ]
  },
  {
   "cell_type": "markdown",
   "id": "initial-pleasure",
   "metadata": {},
   "source": [
    "#### Más mujeres en la educación >> mayor PIB >> mujeres en puestos de responsabilidad >> mas mujeres en TIC"
   ]
  },
  {
   "cell_type": "code",
   "execution_count": 1,
   "id": "passing-savage",
   "metadata": {},
   "outputs": [],
   "source": [
    "# para medir el desarrollo del país uso PIB pero podría usar el índice de Gini*"
   ]
  },
  {
   "cell_type": "code",
   "execution_count": 119,
   "id": "trained-phenomenon",
   "metadata": {},
   "outputs": [],
   "source": [
    "import pandas as pd\n",
    "import glob\n",
    "import numpy as np\n",
    "\n",
    "import seaborn as sns\n",
    "import matplotlib.pyplot as plt\n",
    "import plotly.express as px\n",
    "import plotly.graph_objects as go\n",
    "from plotly.subplots import make_subplots"
   ]
  },
  {
   "cell_type": "code",
   "execution_count": 41,
   "id": "ranging-security",
   "metadata": {},
   "outputs": [
    {
     "data": {
      "text/plain": [
       "['data\\\\all_pib.csv',\n",
       " 'data\\\\code_countries.csv',\n",
       " 'data\\\\education.csv',\n",
       " 'data\\\\egresados_cleaned.csv',\n",
       " 'data\\\\employment_sexage.csv',\n",
       " 'data\\\\eu_pib.csv',\n",
       " 'data\\\\gdpyear.csv',\n",
       " 'data\\\\ict_specialists.csv',\n",
       " 'data\\\\manager.csv',\n",
       " 'data\\\\pibpc.csv',\n",
       " 'data\\\\seats_gov.csv']"
      ]
     },
     "execution_count": 41,
     "metadata": {},
     "output_type": "execute_result"
    }
   ],
   "source": [
    "glob.glob(\"data/**.csv\")"
   ]
  },
  {
   "cell_type": "code",
   "execution_count": 42,
   "id": "ideal-jersey",
   "metadata": {},
   "outputs": [
    {
     "data": {
      "text/html": [
       "<div>\n",
       "<style scoped>\n",
       "    .dataframe tbody tr th:only-of-type {\n",
       "        vertical-align: middle;\n",
       "    }\n",
       "\n",
       "    .dataframe tbody tr th {\n",
       "        vertical-align: top;\n",
       "    }\n",
       "\n",
       "    .dataframe thead th {\n",
       "        text-align: right;\n",
       "    }\n",
       "</style>\n",
       "<table border=\"1\" class=\"dataframe\">\n",
       "  <thead>\n",
       "    <tr style=\"text-align: right;\">\n",
       "      <th></th>\n",
       "      <th>code</th>\n",
       "      <th>label</th>\n",
       "    </tr>\n",
       "  </thead>\n",
       "  <tbody>\n",
       "    <tr>\n",
       "      <th>8</th>\n",
       "      <td>DE</td>\n",
       "      <td>Germany</td>\n",
       "    </tr>\n",
       "    <tr>\n",
       "      <th>9</th>\n",
       "      <td>EE</td>\n",
       "      <td>Estonia</td>\n",
       "    </tr>\n",
       "    <tr>\n",
       "      <th>10</th>\n",
       "      <td>IE</td>\n",
       "      <td>Ireland</td>\n",
       "    </tr>\n",
       "    <tr>\n",
       "      <th>11</th>\n",
       "      <td>EL</td>\n",
       "      <td>Greece</td>\n",
       "    </tr>\n",
       "    <tr>\n",
       "      <th>12</th>\n",
       "      <td>ES</td>\n",
       "      <td>Spain</td>\n",
       "    </tr>\n",
       "    <tr>\n",
       "      <th>13</th>\n",
       "      <td>FR</td>\n",
       "      <td>France</td>\n",
       "    </tr>\n",
       "    <tr>\n",
       "      <th>14</th>\n",
       "      <td>HR</td>\n",
       "      <td>Croatia</td>\n",
       "    </tr>\n",
       "    <tr>\n",
       "      <th>15</th>\n",
       "      <td>IT</td>\n",
       "      <td>Italy</td>\n",
       "    </tr>\n",
       "    <tr>\n",
       "      <th>16</th>\n",
       "      <td>CY</td>\n",
       "      <td>Cyprus</td>\n",
       "    </tr>\n",
       "  </tbody>\n",
       "</table>\n",
       "</div>"
      ],
      "text/plain": [
       "   code    label\n",
       "8    DE  Germany\n",
       "9    EE  Estonia\n",
       "10   IE  Ireland\n",
       "11   EL   Greece\n",
       "12   ES    Spain\n",
       "13   FR   France\n",
       "14   HR  Croatia\n",
       "15   IT    Italy\n",
       "16   CY   Cyprus"
      ]
     },
     "execution_count": 42,
     "metadata": {},
     "output_type": "execute_result"
    }
   ],
   "source": [
    "codes = pd.read_csv(\"../data/code_countries.csv\")\n",
    "codes.loc[8:16,:]"
   ]
  },
  {
   "cell_type": "code",
   "execution_count": 43,
   "id": "structural-toilet",
   "metadata": {},
   "outputs": [
    {
     "data": {
      "text/plain": [
       "array(['European Union - 27 countries (from 2020)',\n",
       "       'European Union - 28 countries (2013-2020)',\n",
       "       'European Union - 15 countries (1995-2004)',\n",
       "       'Euro area - 19 countries (from 2015)', 'Belgium', 'Bulgaria',\n",
       "       'Czechia', 'Denmark', 'Germany', 'Estonia', 'Ireland', 'Greece',\n",
       "       'Spain', 'France', 'Croatia', 'Italy', 'Cyprus', 'Latvia',\n",
       "       'Lithuania', 'Luxembourg', 'Hungary', 'Malta', 'Netherlands',\n",
       "       'Austria', 'Poland', 'Portugal', 'Romania', 'Slovenia', 'Slovakia',\n",
       "       'Finland', 'Sweden', 'Iceland', 'Norway', 'Switzerland',\n",
       "       'United Kingdom', 'Montenegro', 'North Macedonia', 'Serbia',\n",
       "       'Turkey'], dtype=object)"
      ]
     },
     "execution_count": 43,
     "metadata": {},
     "output_type": "execute_result"
    }
   ],
   "source": [
    "codes.label.values"
   ]
  },
  {
   "cell_type": "markdown",
   "id": "progressive-battery",
   "metadata": {},
   "source": [
    "### más educación >> más empleo ICT  >> más desarrollo económico"
   ]
  },
  {
   "cell_type": "code",
   "execution_count": 45,
   "id": "right-amsterdam",
   "metadata": {},
   "outputs": [],
   "source": [
    "# mirar años que tienen todos los csv en común [2009-2019]\n",
    "# porcentaje de la mujer <-- así no tengo que manejar los datos de hombres y mujeres, solo en términos relativos"
   ]
  },
  {
   "cell_type": "code",
   "execution_count": 173,
   "id": "cathedral-treasure",
   "metadata": {},
   "outputs": [],
   "source": [
    "education = pd.read_csv(\"data/education.csv\")"
   ]
  },
  {
   "cell_type": "code",
   "execution_count": 50,
   "id": "demanding-attachment",
   "metadata": {},
   "outputs": [],
   "source": [
    "education = education[['unit', 'sex', 'geo', 'isced11', '2009 ','2010 ','2011 ','2012 ', '2013 ','2014 ','2015 ','2016 ','2017 ','2018 ', '2019 ']]"
   ]
  },
  {
   "cell_type": "code",
   "execution_count": 56,
   "id": "formal-drilling",
   "metadata": {},
   "outputs": [],
   "source": [
    "education = education[(education[\"sex\"] == \"M\") | (education[\"sex\"] == \"F\")]"
   ]
  },
  {
   "cell_type": "markdown",
   "id": "formed-bryan",
   "metadata": {},
   "source": [
    "- **ED0-2** Less than primary, primary and lower secondary education (levels 0-2)\n",
    "- **ED3-8** Upper secondary, post-secondary non-tertiary and tertiary education (levels 3-8)\n",
    "- **ED3_4** Upper secondary and post-secondary non-tertiary education\n",
    "- **ED5-8** Tertiary education"
   ]
  },
  {
   "cell_type": "code",
   "execution_count": 165,
   "id": "bottom-scottish",
   "metadata": {},
   "outputs": [],
   "source": [
    "# ¿dejamos solo la de ED3-8 pues lo que queremos medir es la educación post colegio- superior?\n",
    "educa_group = education.groupby([\"geo\", \"isced11\", \"sex\"]).sum()"
   ]
  },
  {
   "cell_type": "code",
   "execution_count": 169,
   "id": "academic-isolation",
   "metadata": {},
   "outputs": [
    {
     "data": {
      "text/html": [
       "<div>\n",
       "<style scoped>\n",
       "    .dataframe tbody tr th:only-of-type {\n",
       "        vertical-align: middle;\n",
       "    }\n",
       "\n",
       "    .dataframe tbody tr th {\n",
       "        vertical-align: top;\n",
       "    }\n",
       "\n",
       "    .dataframe thead tr th {\n",
       "        text-align: left;\n",
       "    }\n",
       "</style>\n",
       "<table border=\"1\" class=\"dataframe\">\n",
       "  <thead>\n",
       "    <tr>\n",
       "      <th>geo</th>\n",
       "      <th colspan=\"8\" halign=\"left\">AT</th>\n",
       "      <th colspan=\"2\" halign=\"left\">BE</th>\n",
       "      <th>...</th>\n",
       "      <th colspan=\"2\" halign=\"left\">TR</th>\n",
       "      <th colspan=\"8\" halign=\"left\">UK</th>\n",
       "    </tr>\n",
       "    <tr>\n",
       "      <th>isced11</th>\n",
       "      <th colspan=\"2\" halign=\"left\">ED0-2</th>\n",
       "      <th colspan=\"2\" halign=\"left\">ED3-8</th>\n",
       "      <th colspan=\"2\" halign=\"left\">ED3_4</th>\n",
       "      <th colspan=\"2\" halign=\"left\">ED5-8</th>\n",
       "      <th colspan=\"2\" halign=\"left\">ED0-2</th>\n",
       "      <th>...</th>\n",
       "      <th colspan=\"2\" halign=\"left\">ED5-8</th>\n",
       "      <th colspan=\"2\" halign=\"left\">ED0-2</th>\n",
       "      <th colspan=\"2\" halign=\"left\">ED3-8</th>\n",
       "      <th colspan=\"2\" halign=\"left\">ED3_4</th>\n",
       "      <th colspan=\"2\" halign=\"left\">ED5-8</th>\n",
       "    </tr>\n",
       "    <tr>\n",
       "      <th>sex</th>\n",
       "      <th>F</th>\n",
       "      <th>M</th>\n",
       "      <th>F</th>\n",
       "      <th>M</th>\n",
       "      <th>F</th>\n",
       "      <th>M</th>\n",
       "      <th>F</th>\n",
       "      <th>M</th>\n",
       "      <th>F</th>\n",
       "      <th>M</th>\n",
       "      <th>...</th>\n",
       "      <th>F</th>\n",
       "      <th>M</th>\n",
       "      <th>F</th>\n",
       "      <th>M</th>\n",
       "      <th>F</th>\n",
       "      <th>M</th>\n",
       "      <th>F</th>\n",
       "      <th>M</th>\n",
       "      <th>F</th>\n",
       "      <th>M</th>\n",
       "    </tr>\n",
       "  </thead>\n",
       "  <tbody>\n",
       "    <tr>\n",
       "      <th>2009</th>\n",
       "      <td>208.6</td>\n",
       "      <td>124.0</td>\n",
       "      <td>691.4</td>\n",
       "      <td>776.0</td>\n",
       "      <td>551.4</td>\n",
       "      <td>606.0</td>\n",
       "      <td>139.9</td>\n",
       "      <td>170.1</td>\n",
       "      <td>250.3</td>\n",
       "      <td>257.6</td>\n",
       "      <td>...</td>\n",
       "      <td>80.3</td>\n",
       "      <td>116.9</td>\n",
       "      <td>244.4</td>\n",
       "      <td>200.8</td>\n",
       "      <td>655.6</td>\n",
       "      <td>699.2</td>\n",
       "      <td>361.1</td>\n",
       "      <td>413.3</td>\n",
       "      <td>294.6</td>\n",
       "      <td>286.0</td>\n",
       "    </tr>\n",
       "    <tr>\n",
       "      <th>2010</th>\n",
       "      <td>199.2</td>\n",
       "      <td>123.7</td>\n",
       "      <td>700.8</td>\n",
       "      <td>776.3</td>\n",
       "      <td>555.5</td>\n",
       "      <td>606.0</td>\n",
       "      <td>145.3</td>\n",
       "      <td>170.0</td>\n",
       "      <td>248.4</td>\n",
       "      <td>261.4</td>\n",
       "      <td>...</td>\n",
       "      <td>83.3</td>\n",
       "      <td>122.0</td>\n",
       "      <td>228.3</td>\n",
       "      <td>188.1</td>\n",
       "      <td>671.7</td>\n",
       "      <td>711.9</td>\n",
       "      <td>358.7</td>\n",
       "      <td>414.7</td>\n",
       "      <td>312.9</td>\n",
       "      <td>297.1</td>\n",
       "    </tr>\n",
       "    <tr>\n",
       "      <th>2011</th>\n",
       "      <td>197.6</td>\n",
       "      <td>126.0</td>\n",
       "      <td>702.4</td>\n",
       "      <td>774.0</td>\n",
       "      <td>557.7</td>\n",
       "      <td>602.9</td>\n",
       "      <td>145.0</td>\n",
       "      <td>171.2</td>\n",
       "      <td>241.9</td>\n",
       "      <td>259.4</td>\n",
       "      <td>...</td>\n",
       "      <td>89.8</td>\n",
       "      <td>129.4</td>\n",
       "      <td>222.9</td>\n",
       "      <td>192.1</td>\n",
       "      <td>677.1</td>\n",
       "      <td>707.9</td>\n",
       "      <td>349.6</td>\n",
       "      <td>396.8</td>\n",
       "      <td>327.4</td>\n",
       "      <td>311.1</td>\n",
       "    </tr>\n",
       "    <tr>\n",
       "      <th>2012</th>\n",
       "      <td>190.0</td>\n",
       "      <td>118.6</td>\n",
       "      <td>710.0</td>\n",
       "      <td>781.4</td>\n",
       "      <td>555.4</td>\n",
       "      <td>605.2</td>\n",
       "      <td>154.8</td>\n",
       "      <td>176.3</td>\n",
       "      <td>234.7</td>\n",
       "      <td>257.3</td>\n",
       "      <td>...</td>\n",
       "      <td>100.5</td>\n",
       "      <td>138.6</td>\n",
       "      <td>203.3</td>\n",
       "      <td>184.7</td>\n",
       "      <td>696.7</td>\n",
       "      <td>715.3</td>\n",
       "      <td>354.7</td>\n",
       "      <td>392.6</td>\n",
       "      <td>342.1</td>\n",
       "      <td>322.5</td>\n",
       "    </tr>\n",
       "    <tr>\n",
       "      <th>2013</th>\n",
       "      <td>186.0</td>\n",
       "      <td>119.5</td>\n",
       "      <td>714.0</td>\n",
       "      <td>780.5</td>\n",
       "      <td>550.9</td>\n",
       "      <td>599.0</td>\n",
       "      <td>163.0</td>\n",
       "      <td>181.6</td>\n",
       "      <td>226.9</td>\n",
       "      <td>249.3</td>\n",
       "      <td>...</td>\n",
       "      <td>107.4</td>\n",
       "      <td>143.5</td>\n",
       "      <td>195.8</td>\n",
       "      <td>182.4</td>\n",
       "      <td>704.2</td>\n",
       "      <td>717.6</td>\n",
       "      <td>349.2</td>\n",
       "      <td>390.4</td>\n",
       "      <td>355.2</td>\n",
       "      <td>327.2</td>\n",
       "    </tr>\n",
       "    <tr>\n",
       "      <th>2014</th>\n",
       "      <td>173.3</td>\n",
       "      <td>109.8</td>\n",
       "      <td>726.7</td>\n",
       "      <td>790.2</td>\n",
       "      <td>464.4</td>\n",
       "      <td>516.1</td>\n",
       "      <td>262.3</td>\n",
       "      <td>274.1</td>\n",
       "      <td>217.0</td>\n",
       "      <td>243.1</td>\n",
       "      <td>...</td>\n",
       "      <td>113.3</td>\n",
       "      <td>150.7</td>\n",
       "      <td>189.0</td>\n",
       "      <td>174.0</td>\n",
       "      <td>711.0</td>\n",
       "      <td>726.0</td>\n",
       "      <td>347.9</td>\n",
       "      <td>390.1</td>\n",
       "      <td>363.2</td>\n",
       "      <td>335.9</td>\n",
       "    </tr>\n",
       "    <tr>\n",
       "      <th>2015</th>\n",
       "      <td>167.9</td>\n",
       "      <td>108.0</td>\n",
       "      <td>732.1</td>\n",
       "      <td>792.0</td>\n",
       "      <td>461.6</td>\n",
       "      <td>515.6</td>\n",
       "      <td>270.6</td>\n",
       "      <td>276.2</td>\n",
       "      <td>210.4</td>\n",
       "      <td>232.9</td>\n",
       "      <td>...</td>\n",
       "      <td>126.5</td>\n",
       "      <td>159.9</td>\n",
       "      <td>180.7</td>\n",
       "      <td>172.9</td>\n",
       "      <td>719.3</td>\n",
       "      <td>727.1</td>\n",
       "      <td>346.8</td>\n",
       "      <td>383.5</td>\n",
       "      <td>372.7</td>\n",
       "      <td>343.4</td>\n",
       "    </tr>\n",
       "    <tr>\n",
       "      <th>2016</th>\n",
       "      <td>164.3</td>\n",
       "      <td>111.5</td>\n",
       "      <td>735.7</td>\n",
       "      <td>788.5</td>\n",
       "      <td>453.1</td>\n",
       "      <td>508.3</td>\n",
       "      <td>282.4</td>\n",
       "      <td>280.3</td>\n",
       "      <td>207.5</td>\n",
       "      <td>225.8</td>\n",
       "      <td>...</td>\n",
       "      <td>139.3</td>\n",
       "      <td>171.4</td>\n",
       "      <td>177.7</td>\n",
       "      <td>179.0</td>\n",
       "      <td>722.3</td>\n",
       "      <td>721.0</td>\n",
       "      <td>343.9</td>\n",
       "      <td>371.6</td>\n",
       "      <td>378.4</td>\n",
       "      <td>349.2</td>\n",
       "    </tr>\n",
       "    <tr>\n",
       "      <th>2017</th>\n",
       "      <td>157.4</td>\n",
       "      <td>115.7</td>\n",
       "      <td>742.6</td>\n",
       "      <td>784.3</td>\n",
       "      <td>450.7</td>\n",
       "      <td>500.5</td>\n",
       "      <td>291.8</td>\n",
       "      <td>283.8</td>\n",
       "      <td>194.4</td>\n",
       "      <td>213.9</td>\n",
       "      <td>...</td>\n",
       "      <td>147.8</td>\n",
       "      <td>175.0</td>\n",
       "      <td>170.9</td>\n",
       "      <td>176.0</td>\n",
       "      <td>729.1</td>\n",
       "      <td>724.0</td>\n",
       "      <td>345.1</td>\n",
       "      <td>374.0</td>\n",
       "      <td>383.8</td>\n",
       "      <td>349.8</td>\n",
       "    </tr>\n",
       "    <tr>\n",
       "      <th>2018</th>\n",
       "      <td>154.4</td>\n",
       "      <td>110.6</td>\n",
       "      <td>745.6</td>\n",
       "      <td>789.4</td>\n",
       "      <td>456.1</td>\n",
       "      <td>498.1</td>\n",
       "      <td>289.6</td>\n",
       "      <td>291.3</td>\n",
       "      <td>181.8</td>\n",
       "      <td>202.6</td>\n",
       "      <td>...</td>\n",
       "      <td>155.4</td>\n",
       "      <td>180.8</td>\n",
       "      <td>164.5</td>\n",
       "      <td>178.3</td>\n",
       "      <td>735.5</td>\n",
       "      <td>721.7</td>\n",
       "      <td>343.2</td>\n",
       "      <td>370.5</td>\n",
       "      <td>392.4</td>\n",
       "      <td>350.8</td>\n",
       "    </tr>\n",
       "    <tr>\n",
       "      <th>2019</th>\n",
       "      <td>149.9</td>\n",
       "      <td>113.6</td>\n",
       "      <td>750.1</td>\n",
       "      <td>786.4</td>\n",
       "      <td>447.7</td>\n",
       "      <td>488.2</td>\n",
       "      <td>302.3</td>\n",
       "      <td>298.2</td>\n",
       "      <td>172.6</td>\n",
       "      <td>204.2</td>\n",
       "      <td>...</td>\n",
       "      <td>166.0</td>\n",
       "      <td>193.0</td>\n",
       "      <td>159.3</td>\n",
       "      <td>172.3</td>\n",
       "      <td>740.7</td>\n",
       "      <td>727.7</td>\n",
       "      <td>336.7</td>\n",
       "      <td>365.1</td>\n",
       "      <td>404.3</td>\n",
       "      <td>362.6</td>\n",
       "    </tr>\n",
       "  </tbody>\n",
       "</table>\n",
       "<p>11 rows × 288 columns</p>\n",
       "</div>"
      ],
      "text/plain": [
       "geo         AT                                                      BE         \\\n",
       "isced11  ED0-2         ED3-8         ED3_4         ED5-8         ED0-2          \n",
       "sex          F      M      F      M      F      M      F      M      F      M   \n",
       "2009     208.6  124.0  691.4  776.0  551.4  606.0  139.9  170.1  250.3  257.6   \n",
       "2010     199.2  123.7  700.8  776.3  555.5  606.0  145.3  170.0  248.4  261.4   \n",
       "2011     197.6  126.0  702.4  774.0  557.7  602.9  145.0  171.2  241.9  259.4   \n",
       "2012     190.0  118.6  710.0  781.4  555.4  605.2  154.8  176.3  234.7  257.3   \n",
       "2013     186.0  119.5  714.0  780.5  550.9  599.0  163.0  181.6  226.9  249.3   \n",
       "2014     173.3  109.8  726.7  790.2  464.4  516.1  262.3  274.1  217.0  243.1   \n",
       "2015     167.9  108.0  732.1  792.0  461.6  515.6  270.6  276.2  210.4  232.9   \n",
       "2016     164.3  111.5  735.7  788.5  453.1  508.3  282.4  280.3  207.5  225.8   \n",
       "2017     157.4  115.7  742.6  784.3  450.7  500.5  291.8  283.8  194.4  213.9   \n",
       "2018     154.4  110.6  745.6  789.4  456.1  498.1  289.6  291.3  181.8  202.6   \n",
       "2019     149.9  113.6  750.1  786.4  447.7  488.2  302.3  298.2  172.6  204.2   \n",
       "\n",
       "geo      ...     TR            UK                                            \\\n",
       "isced11  ...  ED5-8         ED0-2         ED3-8         ED3_4         ED5-8   \n",
       "sex      ...      F      M      F      M      F      M      F      M      F   \n",
       "2009     ...   80.3  116.9  244.4  200.8  655.6  699.2  361.1  413.3  294.6   \n",
       "2010     ...   83.3  122.0  228.3  188.1  671.7  711.9  358.7  414.7  312.9   \n",
       "2011     ...   89.8  129.4  222.9  192.1  677.1  707.9  349.6  396.8  327.4   \n",
       "2012     ...  100.5  138.6  203.3  184.7  696.7  715.3  354.7  392.6  342.1   \n",
       "2013     ...  107.4  143.5  195.8  182.4  704.2  717.6  349.2  390.4  355.2   \n",
       "2014     ...  113.3  150.7  189.0  174.0  711.0  726.0  347.9  390.1  363.2   \n",
       "2015     ...  126.5  159.9  180.7  172.9  719.3  727.1  346.8  383.5  372.7   \n",
       "2016     ...  139.3  171.4  177.7  179.0  722.3  721.0  343.9  371.6  378.4   \n",
       "2017     ...  147.8  175.0  170.9  176.0  729.1  724.0  345.1  374.0  383.8   \n",
       "2018     ...  155.4  180.8  164.5  178.3  735.5  721.7  343.2  370.5  392.4   \n",
       "2019     ...  166.0  193.0  159.3  172.3  740.7  727.7  336.7  365.1  404.3   \n",
       "\n",
       "geo             \n",
       "isced11         \n",
       "sex          M  \n",
       "2009     286.0  \n",
       "2010     297.1  \n",
       "2011     311.1  \n",
       "2012     322.5  \n",
       "2013     327.2  \n",
       "2014     335.9  \n",
       "2015     343.4  \n",
       "2016     349.2  \n",
       "2017     349.8  \n",
       "2018     350.8  \n",
       "2019     362.6  \n",
       "\n",
       "[11 rows x 288 columns]"
      ]
     },
     "execution_count": 169,
     "metadata": {},
     "output_type": "execute_result"
    }
   ],
   "source": [
    "educa_group.T[list(manager_group_t.columns.values)]"
   ]
  },
  {
   "cell_type": "code",
   "execution_count": 170,
   "id": "circular-demand",
   "metadata": {},
   "outputs": [],
   "source": [
    "educa_group.T[list(manager_group_t.columns.values)].to_csv(\"data/educa_to_paint.csv\")"
   ]
  },
  {
   "cell_type": "code",
   "execution_count": 35,
   "id": "front-kingdom",
   "metadata": {},
   "outputs": [
    {
     "data": {
      "text/plain": [
       "Index(['unit', 'sex', 'geo', '2009 ', '2010 ', '2011 ', '2012 ', '2013 ',\n",
       "       '2014 ', '2015 ', '2016 ', '2017 ', '2018 ', '2019 '],\n",
       "      dtype='object')"
      ]
     },
     "execution_count": 35,
     "metadata": {},
     "output_type": "execute_result"
    }
   ],
   "source": [
    "ict = pd.read_csv(\"../data/ict_specialists.csv\")\n",
    "ict.columns"
   ]
  },
  {
   "cell_type": "code",
   "execution_count": 62,
   "id": "hazardous-metro",
   "metadata": {},
   "outputs": [],
   "source": [
    "ict = ict[ict.unit == \"PC\"]"
   ]
  },
  {
   "cell_type": "code",
   "execution_count": 128,
   "id": "fabulous-summary",
   "metadata": {},
   "outputs": [],
   "source": [
    "ict = ict.groupby([\"geo\", \"sex\"]).sum()"
   ]
  },
  {
   "cell_type": "code",
   "execution_count": 171,
   "id": "lined-protein",
   "metadata": {},
   "outputs": [],
   "source": [
    "#gdp_to_paint = gdp_group_T[list(manager_group_t.columns.values)]"
   ]
  },
  {
   "cell_type": "code",
   "execution_count": 163,
   "id": "unique-resource",
   "metadata": {},
   "outputs": [
    {
     "data": {
      "text/html": [
       "<div>\n",
       "<style scoped>\n",
       "    .dataframe tbody tr th:only-of-type {\n",
       "        vertical-align: middle;\n",
       "    }\n",
       "\n",
       "    .dataframe tbody tr th {\n",
       "        vertical-align: top;\n",
       "    }\n",
       "\n",
       "    .dataframe thead tr th {\n",
       "        text-align: left;\n",
       "    }\n",
       "</style>\n",
       "<table border=\"1\" class=\"dataframe\">\n",
       "  <thead>\n",
       "    <tr>\n",
       "      <th>geo</th>\n",
       "      <th colspan=\"2\" halign=\"left\">AT</th>\n",
       "      <th colspan=\"2\" halign=\"left\">BE</th>\n",
       "      <th colspan=\"2\" halign=\"left\">BG</th>\n",
       "      <th colspan=\"2\" halign=\"left\">CH</th>\n",
       "      <th colspan=\"2\" halign=\"left\">CY</th>\n",
       "      <th>...</th>\n",
       "      <th colspan=\"2\" halign=\"left\">SE</th>\n",
       "      <th colspan=\"2\" halign=\"left\">SI</th>\n",
       "      <th colspan=\"2\" halign=\"left\">SK</th>\n",
       "      <th colspan=\"2\" halign=\"left\">TR</th>\n",
       "      <th colspan=\"2\" halign=\"left\">UK</th>\n",
       "    </tr>\n",
       "    <tr>\n",
       "      <th>sex</th>\n",
       "      <th>F</th>\n",
       "      <th>M</th>\n",
       "      <th>F</th>\n",
       "      <th>M</th>\n",
       "      <th>F</th>\n",
       "      <th>M</th>\n",
       "      <th>F</th>\n",
       "      <th>M</th>\n",
       "      <th>F</th>\n",
       "      <th>M</th>\n",
       "      <th>...</th>\n",
       "      <th>F</th>\n",
       "      <th>M</th>\n",
       "      <th>F</th>\n",
       "      <th>M</th>\n",
       "      <th>F</th>\n",
       "      <th>M</th>\n",
       "      <th>F</th>\n",
       "      <th>M</th>\n",
       "      <th>F</th>\n",
       "      <th>M</th>\n",
       "    </tr>\n",
       "  </thead>\n",
       "  <tbody>\n",
       "    <tr>\n",
       "      <th>2009</th>\n",
       "      <td>18.8</td>\n",
       "      <td>81.2</td>\n",
       "      <td>18.3</td>\n",
       "      <td>81.7</td>\n",
       "      <td>30.6</td>\n",
       "      <td>69.4</td>\n",
       "      <td>0.0</td>\n",
       "      <td>0.0</td>\n",
       "      <td>15.5</td>\n",
       "      <td>84.5</td>\n",
       "      <td>...</td>\n",
       "      <td>21.2</td>\n",
       "      <td>78.8</td>\n",
       "      <td>24.1</td>\n",
       "      <td>75.9</td>\n",
       "      <td>32.5</td>\n",
       "      <td>67.5</td>\n",
       "      <td>0.0</td>\n",
       "      <td>0.0</td>\n",
       "      <td>0.0</td>\n",
       "      <td>0.0</td>\n",
       "    </tr>\n",
       "    <tr>\n",
       "      <th>2010</th>\n",
       "      <td>19.1</td>\n",
       "      <td>80.9</td>\n",
       "      <td>19.1</td>\n",
       "      <td>80.9</td>\n",
       "      <td>31.1</td>\n",
       "      <td>68.9</td>\n",
       "      <td>0.0</td>\n",
       "      <td>0.0</td>\n",
       "      <td>18.2</td>\n",
       "      <td>81.8</td>\n",
       "      <td>...</td>\n",
       "      <td>20.9</td>\n",
       "      <td>79.1</td>\n",
       "      <td>25.5</td>\n",
       "      <td>74.5</td>\n",
       "      <td>34.8</td>\n",
       "      <td>65.2</td>\n",
       "      <td>0.0</td>\n",
       "      <td>0.0</td>\n",
       "      <td>0.0</td>\n",
       "      <td>0.0</td>\n",
       "    </tr>\n",
       "    <tr>\n",
       "      <th>2011</th>\n",
       "      <td>13.2</td>\n",
       "      <td>86.8</td>\n",
       "      <td>16.6</td>\n",
       "      <td>83.4</td>\n",
       "      <td>32.5</td>\n",
       "      <td>67.5</td>\n",
       "      <td>12.6</td>\n",
       "      <td>87.4</td>\n",
       "      <td>21.3</td>\n",
       "      <td>78.7</td>\n",
       "      <td>...</td>\n",
       "      <td>19.0</td>\n",
       "      <td>81.0</td>\n",
       "      <td>15.8</td>\n",
       "      <td>84.2</td>\n",
       "      <td>17.5</td>\n",
       "      <td>82.5</td>\n",
       "      <td>14.3</td>\n",
       "      <td>85.7</td>\n",
       "      <td>17.9</td>\n",
       "      <td>82.1</td>\n",
       "    </tr>\n",
       "    <tr>\n",
       "      <th>2012</th>\n",
       "      <td>16.8</td>\n",
       "      <td>83.2</td>\n",
       "      <td>17.1</td>\n",
       "      <td>82.9</td>\n",
       "      <td>31.9</td>\n",
       "      <td>68.1</td>\n",
       "      <td>13.3</td>\n",
       "      <td>86.7</td>\n",
       "      <td>19.7</td>\n",
       "      <td>80.3</td>\n",
       "      <td>...</td>\n",
       "      <td>19.4</td>\n",
       "      <td>80.6</td>\n",
       "      <td>14.2</td>\n",
       "      <td>85.8</td>\n",
       "      <td>13.4</td>\n",
       "      <td>86.6</td>\n",
       "      <td>14.4</td>\n",
       "      <td>85.6</td>\n",
       "      <td>17.4</td>\n",
       "      <td>82.6</td>\n",
       "    </tr>\n",
       "    <tr>\n",
       "      <th>2013</th>\n",
       "      <td>14.2</td>\n",
       "      <td>85.8</td>\n",
       "      <td>15.5</td>\n",
       "      <td>84.5</td>\n",
       "      <td>29.3</td>\n",
       "      <td>70.7</td>\n",
       "      <td>14.2</td>\n",
       "      <td>85.8</td>\n",
       "      <td>17.3</td>\n",
       "      <td>82.7</td>\n",
       "      <td>...</td>\n",
       "      <td>19.6</td>\n",
       "      <td>80.4</td>\n",
       "      <td>12.7</td>\n",
       "      <td>87.3</td>\n",
       "      <td>9.0</td>\n",
       "      <td>91.0</td>\n",
       "      <td>14.7</td>\n",
       "      <td>85.3</td>\n",
       "      <td>15.8</td>\n",
       "      <td>84.2</td>\n",
       "    </tr>\n",
       "    <tr>\n",
       "      <th>2014</th>\n",
       "      <td>13.4</td>\n",
       "      <td>86.6</td>\n",
       "      <td>15.2</td>\n",
       "      <td>84.8</td>\n",
       "      <td>31.2</td>\n",
       "      <td>68.8</td>\n",
       "      <td>13.8</td>\n",
       "      <td>86.2</td>\n",
       "      <td>16.5</td>\n",
       "      <td>83.5</td>\n",
       "      <td>...</td>\n",
       "      <td>19.1</td>\n",
       "      <td>80.9</td>\n",
       "      <td>13.6</td>\n",
       "      <td>86.4</td>\n",
       "      <td>12.0</td>\n",
       "      <td>88.0</td>\n",
       "      <td>14.5</td>\n",
       "      <td>85.5</td>\n",
       "      <td>16.5</td>\n",
       "      <td>83.5</td>\n",
       "    </tr>\n",
       "    <tr>\n",
       "      <th>2015</th>\n",
       "      <td>14.3</td>\n",
       "      <td>85.7</td>\n",
       "      <td>15.1</td>\n",
       "      <td>84.9</td>\n",
       "      <td>30.7</td>\n",
       "      <td>69.3</td>\n",
       "      <td>14.2</td>\n",
       "      <td>85.8</td>\n",
       "      <td>20.8</td>\n",
       "      <td>79.2</td>\n",
       "      <td>...</td>\n",
       "      <td>18.9</td>\n",
       "      <td>81.1</td>\n",
       "      <td>16.2</td>\n",
       "      <td>83.8</td>\n",
       "      <td>11.9</td>\n",
       "      <td>88.1</td>\n",
       "      <td>13.8</td>\n",
       "      <td>86.2</td>\n",
       "      <td>17.2</td>\n",
       "      <td>82.8</td>\n",
       "    </tr>\n",
       "    <tr>\n",
       "      <th>2016</th>\n",
       "      <td>17.1</td>\n",
       "      <td>82.9</td>\n",
       "      <td>14.1</td>\n",
       "      <td>85.9</td>\n",
       "      <td>28.9</td>\n",
       "      <td>71.1</td>\n",
       "      <td>15.0</td>\n",
       "      <td>85.0</td>\n",
       "      <td>23.8</td>\n",
       "      <td>76.2</td>\n",
       "      <td>...</td>\n",
       "      <td>20.8</td>\n",
       "      <td>79.2</td>\n",
       "      <td>17.3</td>\n",
       "      <td>82.7</td>\n",
       "      <td>9.7</td>\n",
       "      <td>90.3</td>\n",
       "      <td>13.2</td>\n",
       "      <td>86.8</td>\n",
       "      <td>16.5</td>\n",
       "      <td>83.5</td>\n",
       "    </tr>\n",
       "    <tr>\n",
       "      <th>2017</th>\n",
       "      <td>15.7</td>\n",
       "      <td>84.3</td>\n",
       "      <td>15.6</td>\n",
       "      <td>84.4</td>\n",
       "      <td>29.0</td>\n",
       "      <td>71.0</td>\n",
       "      <td>15.2</td>\n",
       "      <td>84.8</td>\n",
       "      <td>18.3</td>\n",
       "      <td>81.7</td>\n",
       "      <td>...</td>\n",
       "      <td>20.9</td>\n",
       "      <td>79.1</td>\n",
       "      <td>16.5</td>\n",
       "      <td>83.5</td>\n",
       "      <td>14.4</td>\n",
       "      <td>85.6</td>\n",
       "      <td>13.8</td>\n",
       "      <td>86.2</td>\n",
       "      <td>17.6</td>\n",
       "      <td>82.4</td>\n",
       "    </tr>\n",
       "    <tr>\n",
       "      <th>2018</th>\n",
       "      <td>18.4</td>\n",
       "      <td>81.6</td>\n",
       "      <td>16.8</td>\n",
       "      <td>83.2</td>\n",
       "      <td>29.9</td>\n",
       "      <td>70.1</td>\n",
       "      <td>14.5</td>\n",
       "      <td>85.5</td>\n",
       "      <td>18.8</td>\n",
       "      <td>81.2</td>\n",
       "      <td>...</td>\n",
       "      <td>20.9</td>\n",
       "      <td>79.1</td>\n",
       "      <td>16.6</td>\n",
       "      <td>83.4</td>\n",
       "      <td>13.1</td>\n",
       "      <td>86.9</td>\n",
       "      <td>14.6</td>\n",
       "      <td>85.4</td>\n",
       "      <td>17.0</td>\n",
       "      <td>83.0</td>\n",
       "    </tr>\n",
       "    <tr>\n",
       "      <th>2019</th>\n",
       "      <td>20.4</td>\n",
       "      <td>79.6</td>\n",
       "      <td>17.2</td>\n",
       "      <td>82.8</td>\n",
       "      <td>28.1</td>\n",
       "      <td>71.9</td>\n",
       "      <td>16.6</td>\n",
       "      <td>83.4</td>\n",
       "      <td>19.1</td>\n",
       "      <td>80.9</td>\n",
       "      <td>...</td>\n",
       "      <td>20.5</td>\n",
       "      <td>79.5</td>\n",
       "      <td>19.5</td>\n",
       "      <td>80.5</td>\n",
       "      <td>14.0</td>\n",
       "      <td>86.0</td>\n",
       "      <td>13.0</td>\n",
       "      <td>87.0</td>\n",
       "      <td>17.1</td>\n",
       "      <td>82.9</td>\n",
       "    </tr>\n",
       "  </tbody>\n",
       "</table>\n",
       "<p>11 rows × 72 columns</p>\n",
       "</div>"
      ],
      "text/plain": [
       "geo      AT          BE          BG          CH          CY        ...    SE  \\\n",
       "sex       F     M     F     M     F     M     F     M     F     M  ...     F   \n",
       "2009   18.8  81.2  18.3  81.7  30.6  69.4   0.0   0.0  15.5  84.5  ...  21.2   \n",
       "2010   19.1  80.9  19.1  80.9  31.1  68.9   0.0   0.0  18.2  81.8  ...  20.9   \n",
       "2011   13.2  86.8  16.6  83.4  32.5  67.5  12.6  87.4  21.3  78.7  ...  19.0   \n",
       "2012   16.8  83.2  17.1  82.9  31.9  68.1  13.3  86.7  19.7  80.3  ...  19.4   \n",
       "2013   14.2  85.8  15.5  84.5  29.3  70.7  14.2  85.8  17.3  82.7  ...  19.6   \n",
       "2014   13.4  86.6  15.2  84.8  31.2  68.8  13.8  86.2  16.5  83.5  ...  19.1   \n",
       "2015   14.3  85.7  15.1  84.9  30.7  69.3  14.2  85.8  20.8  79.2  ...  18.9   \n",
       "2016   17.1  82.9  14.1  85.9  28.9  71.1  15.0  85.0  23.8  76.2  ...  20.8   \n",
       "2017   15.7  84.3  15.6  84.4  29.0  71.0  15.2  84.8  18.3  81.7  ...  20.9   \n",
       "2018   18.4  81.6  16.8  83.2  29.9  70.1  14.5  85.5  18.8  81.2  ...  20.9   \n",
       "2019   20.4  79.6  17.2  82.8  28.1  71.9  16.6  83.4  19.1  80.9  ...  20.5   \n",
       "\n",
       "geo            SI          SK          TR          UK        \n",
       "sex       M     F     M     F     M     F     M     F     M  \n",
       "2009   78.8  24.1  75.9  32.5  67.5   0.0   0.0   0.0   0.0  \n",
       "2010   79.1  25.5  74.5  34.8  65.2   0.0   0.0   0.0   0.0  \n",
       "2011   81.0  15.8  84.2  17.5  82.5  14.3  85.7  17.9  82.1  \n",
       "2012   80.6  14.2  85.8  13.4  86.6  14.4  85.6  17.4  82.6  \n",
       "2013   80.4  12.7  87.3   9.0  91.0  14.7  85.3  15.8  84.2  \n",
       "2014   80.9  13.6  86.4  12.0  88.0  14.5  85.5  16.5  83.5  \n",
       "2015   81.1  16.2  83.8  11.9  88.1  13.8  86.2  17.2  82.8  \n",
       "2016   79.2  17.3  82.7   9.7  90.3  13.2  86.8  16.5  83.5  \n",
       "2017   79.1  16.5  83.5  14.4  85.6  13.8  86.2  17.6  82.4  \n",
       "2018   79.1  16.6  83.4  13.1  86.9  14.6  85.4  17.0  83.0  \n",
       "2019   79.5  19.5  80.5  14.0  86.0  13.0  87.0  17.1  82.9  \n",
       "\n",
       "[11 rows x 72 columns]"
      ]
     },
     "execution_count": 163,
     "metadata": {},
     "output_type": "execute_result"
    }
   ],
   "source": [
    "ict.T[list(manager_group_t.columns.values)]"
   ]
  },
  {
   "cell_type": "code",
   "execution_count": 164,
   "id": "aerial-attraction",
   "metadata": {},
   "outputs": [],
   "source": [
    "ict.T[list(manager_group_t.columns.values)].to_csv(\"data/ict_to_paint.csv\")"
   ]
  },
  {
   "cell_type": "markdown",
   "id": "mediterranean-secondary",
   "metadata": {},
   "source": [
    "### más mujeres en puestos de responsabilidad >> países más desarrollados"
   ]
  },
  {
   "cell_type": "code",
   "execution_count": 142,
   "id": "textile-raleigh",
   "metadata": {},
   "outputs": [],
   "source": [
    "gdp = pd.read_csv(\"data/gdpyear.csv\")"
   ]
  },
  {
   "cell_type": "code",
   "execution_count": 143,
   "id": "protecting-thread",
   "metadata": {},
   "outputs": [],
   "source": [
    "gdp.drop(columns = \"Unnamed: 0\", inplace = True)"
   ]
  },
  {
   "cell_type": "code",
   "execution_count": 144,
   "id": "demanding-purpose",
   "metadata": {},
   "outputs": [],
   "source": [
    "gdp_group = gdp.set_index(\"geo\")"
   ]
  },
  {
   "cell_type": "code",
   "execution_count": 76,
   "id": "phantom-garage",
   "metadata": {},
   "outputs": [],
   "source": [
    "manager = pd.read_csv(\"../data/manager.csv\")\n",
    "# sex no da info porque son porcentajes sobre el total siempre de la mujer"
   ]
  },
  {
   "cell_type": "code",
   "execution_count": 87,
   "id": "average-treat",
   "metadata": {},
   "outputs": [],
   "source": [
    "manager = manager[['geo', '2009 ','2010 ','2011 ','2012 ', '2013 ','2014 ','2015 ','2016 ','2017 ','2018 ', '2019 ']]"
   ]
  },
  {
   "cell_type": "code",
   "execution_count": 90,
   "id": "designing-material",
   "metadata": {},
   "outputs": [],
   "source": [
    "manager_group = manager.groupby(\"geo\").max()"
   ]
  },
  {
   "cell_type": "code",
   "execution_count": 157,
   "id": "backed-cutting",
   "metadata": {},
   "outputs": [],
   "source": [
    "manager_group.drop([\"EA19\", \"EU28\"], axis = 0, inplace = True)"
   ]
  },
  {
   "cell_type": "code",
   "execution_count": 158,
   "id": "blind-uganda",
   "metadata": {},
   "outputs": [],
   "source": [
    "manager_group_t = manager_group.T"
   ]
  },
  {
   "cell_type": "code",
   "execution_count": 145,
   "id": "immediate-valley",
   "metadata": {},
   "outputs": [],
   "source": [
    "gdp_group_T = gdp_group.T"
   ]
  },
  {
   "cell_type": "code",
   "execution_count": 148,
   "id": "approved-consolidation",
   "metadata": {},
   "outputs": [],
   "source": [
    "lista_columnas = list(manager_group_t.columns.values) #quito EU28 y EA19"
   ]
  },
  {
   "cell_type": "code",
   "execution_count": 151,
   "id": "express-leadership",
   "metadata": {},
   "outputs": [],
   "source": [
    "#lista_columnas.remove(\"EA19\")"
   ]
  },
  {
   "cell_type": "code",
   "execution_count": 153,
   "id": "wireless-nelson",
   "metadata": {},
   "outputs": [],
   "source": [
    "gdp_to_paint = gdp_group_T[lista_columnas] #nos quedamos solo con valores de pib de los países que tenemos datos de manager"
   ]
  },
  {
   "cell_type": "code",
   "execution_count": 161,
   "id": "affected-hierarchy",
   "metadata": {},
   "outputs": [],
   "source": [
    "gdp_to_paint.to_csv(\"data/gdp_to_paint.csv\")"
   ]
  },
  {
   "cell_type": "code",
   "execution_count": 162,
   "id": "joint-belfast",
   "metadata": {},
   "outputs": [
    {
     "data": {
      "text/html": [
       "<div>\n",
       "<style scoped>\n",
       "    .dataframe tbody tr th:only-of-type {\n",
       "        vertical-align: middle;\n",
       "    }\n",
       "\n",
       "    .dataframe tbody tr th {\n",
       "        vertical-align: top;\n",
       "    }\n",
       "\n",
       "    .dataframe thead th {\n",
       "        text-align: right;\n",
       "    }\n",
       "</style>\n",
       "<table border=\"1\" class=\"dataframe\">\n",
       "  <thead>\n",
       "    <tr style=\"text-align: right;\">\n",
       "      <th>geo</th>\n",
       "      <th>AT</th>\n",
       "      <th>BE</th>\n",
       "      <th>BG</th>\n",
       "      <th>CH</th>\n",
       "      <th>CY</th>\n",
       "      <th>CZ</th>\n",
       "      <th>DE</th>\n",
       "      <th>DK</th>\n",
       "      <th>EE</th>\n",
       "      <th>EL</th>\n",
       "      <th>...</th>\n",
       "      <th>NO</th>\n",
       "      <th>PL</th>\n",
       "      <th>PT</th>\n",
       "      <th>RO</th>\n",
       "      <th>RS</th>\n",
       "      <th>SE</th>\n",
       "      <th>SI</th>\n",
       "      <th>SK</th>\n",
       "      <th>TR</th>\n",
       "      <th>UK</th>\n",
       "    </tr>\n",
       "  </thead>\n",
       "  <tbody>\n",
       "    <tr>\n",
       "      <th>2009</th>\n",
       "      <td>288044.0</td>\n",
       "      <td>346472.8</td>\n",
       "      <td>37417.7</td>\n",
       "      <td>402236.6</td>\n",
       "      <td>18675.5</td>\n",
       "      <td>149586.5</td>\n",
       "      <td>2445730.0</td>\n",
       "      <td>231278.0</td>\n",
       "      <td>14211.8</td>\n",
       "      <td>237534.2</td>\n",
       "      <td>...</td>\n",
       "      <td>278246.6</td>\n",
       "      <td>317040.6</td>\n",
       "      <td>175416.4</td>\n",
       "      <td>125213.9</td>\n",
       "      <td>32486.2</td>\n",
       "      <td>314637.5</td>\n",
       "      <td>36254.9</td>\n",
       "      <td>64095.5</td>\n",
       "      <td>465245.5</td>\n",
       "      <td>1738066.5</td>\n",
       "    </tr>\n",
       "    <tr>\n",
       "      <th>2010</th>\n",
       "      <td>295896.6</td>\n",
       "      <td>363140.1</td>\n",
       "      <td>38058.1</td>\n",
       "      <td>455933.7</td>\n",
       "      <td>19410.0</td>\n",
       "      <td>157920.8</td>\n",
       "      <td>2564400.0</td>\n",
       "      <td>243165.4</td>\n",
       "      <td>14863.1</td>\n",
       "      <td>224124.0</td>\n",
       "      <td>...</td>\n",
       "      <td>323760.9</td>\n",
       "      <td>362190.9</td>\n",
       "      <td>179610.8</td>\n",
       "      <td>125472.3</td>\n",
       "      <td>31545.8</td>\n",
       "      <td>374695.2</td>\n",
       "      <td>36363.9</td>\n",
       "      <td>68188.7</td>\n",
       "      <td>584855.7</td>\n",
       "      <td>1872175.5</td>\n",
       "    </tr>\n",
       "    <tr>\n",
       "      <th>2011</th>\n",
       "      <td>310128.7</td>\n",
       "      <td>375967.8</td>\n",
       "      <td>41268.9</td>\n",
       "      <td>520201.4</td>\n",
       "      <td>19803.0</td>\n",
       "      <td>165202.2</td>\n",
       "      <td>2693560.0</td>\n",
       "      <td>247879.9</td>\n",
       "      <td>16829.2</td>\n",
       "      <td>203308.2</td>\n",
       "      <td>...</td>\n",
       "      <td>358339.5</td>\n",
       "      <td>379860.0</td>\n",
       "      <td>176096.2</td>\n",
       "      <td>131841.6</td>\n",
       "      <td>35431.7</td>\n",
       "      <td>412844.7</td>\n",
       "      <td>37058.6</td>\n",
       "      <td>71304.5</td>\n",
       "      <td>600961.4</td>\n",
       "      <td>1912869.3</td>\n",
       "    </tr>\n",
       "    <tr>\n",
       "      <th>2012</th>\n",
       "      <td>318653.0</td>\n",
       "      <td>386174.7</td>\n",
       "      <td>42048.6</td>\n",
       "      <td>538439.0</td>\n",
       "      <td>19440.8</td>\n",
       "      <td>162587.5</td>\n",
       "      <td>2745310.0</td>\n",
       "      <td>254578.0</td>\n",
       "      <td>18050.7</td>\n",
       "      <td>188388.7</td>\n",
       "      <td>...</td>\n",
       "      <td>396523.5</td>\n",
       "      <td>387947.0</td>\n",
       "      <td>168295.6</td>\n",
       "      <td>132711.2</td>\n",
       "      <td>33679.3</td>\n",
       "      <td>430037.1</td>\n",
       "      <td>36253.3</td>\n",
       "      <td>73575.8</td>\n",
       "      <td>683587.3</td>\n",
       "      <td>2111028.9</td>\n",
       "    </tr>\n",
       "    <tr>\n",
       "      <th>2013</th>\n",
       "      <td>323910.2</td>\n",
       "      <td>392880.0</td>\n",
       "      <td>41903.5</td>\n",
       "      <td>536632.9</td>\n",
       "      <td>17995.0</td>\n",
       "      <td>159461.5</td>\n",
       "      <td>2811350.0</td>\n",
       "      <td>258742.7</td>\n",
       "      <td>19033.4</td>\n",
       "      <td>179616.4</td>\n",
       "      <td>...</td>\n",
       "      <td>393408.7</td>\n",
       "      <td>392310.7</td>\n",
       "      <td>170492.3</td>\n",
       "      <td>143690.4</td>\n",
       "      <td>36426.7</td>\n",
       "      <td>441850.7</td>\n",
       "      <td>36454.3</td>\n",
       "      <td>74448.8</td>\n",
       "      <td>719726.6</td>\n",
       "      <td>2096338.0</td>\n",
       "    </tr>\n",
       "  </tbody>\n",
       "</table>\n",
       "<p>5 rows × 36 columns</p>\n",
       "</div>"
      ],
      "text/plain": [
       "geo          AT        BE       BG        CH       CY        CZ         DE  \\\n",
       "2009   288044.0  346472.8  37417.7  402236.6  18675.5  149586.5  2445730.0   \n",
       "2010   295896.6  363140.1  38058.1  455933.7  19410.0  157920.8  2564400.0   \n",
       "2011   310128.7  375967.8  41268.9  520201.4  19803.0  165202.2  2693560.0   \n",
       "2012   318653.0  386174.7  42048.6  538439.0  19440.8  162587.5  2745310.0   \n",
       "2013   323910.2  392880.0  41903.5  536632.9  17995.0  159461.5  2811350.0   \n",
       "\n",
       "geo          DK       EE        EL  ...        NO        PL        PT  \\\n",
       "2009   231278.0  14211.8  237534.2  ...  278246.6  317040.6  175416.4   \n",
       "2010   243165.4  14863.1  224124.0  ...  323760.9  362190.9  179610.8   \n",
       "2011   247879.9  16829.2  203308.2  ...  358339.5  379860.0  176096.2   \n",
       "2012   254578.0  18050.7  188388.7  ...  396523.5  387947.0  168295.6   \n",
       "2013   258742.7  19033.4  179616.4  ...  393408.7  392310.7  170492.3   \n",
       "\n",
       "geo          RO       RS        SE       SI       SK        TR         UK  \n",
       "2009   125213.9  32486.2  314637.5  36254.9  64095.5  465245.5  1738066.5  \n",
       "2010   125472.3  31545.8  374695.2  36363.9  68188.7  584855.7  1872175.5  \n",
       "2011   131841.6  35431.7  412844.7  37058.6  71304.5  600961.4  1912869.3  \n",
       "2012   132711.2  33679.3  430037.1  36253.3  73575.8  683587.3  2111028.9  \n",
       "2013   143690.4  36426.7  441850.7  36454.3  74448.8  719726.6  2096338.0  \n",
       "\n",
       "[5 rows x 36 columns]"
      ]
     },
     "execution_count": 162,
     "metadata": {},
     "output_type": "execute_result"
    }
   ],
   "source": [
    "gdp_to_paint.head()"
   ]
  },
  {
   "cell_type": "code",
   "execution_count": 160,
   "id": "exempt-beach",
   "metadata": {},
   "outputs": [],
   "source": [
    "manager_group_t.to_csv(\"data/manager_to_paint.csv\")"
   ]
  },
  {
   "cell_type": "code",
   "execution_count": 159,
   "id": "criminal-carol",
   "metadata": {},
   "outputs": [
    {
     "data": {
      "text/html": [
       "<div>\n",
       "<style scoped>\n",
       "    .dataframe tbody tr th:only-of-type {\n",
       "        vertical-align: middle;\n",
       "    }\n",
       "\n",
       "    .dataframe tbody tr th {\n",
       "        vertical-align: top;\n",
       "    }\n",
       "\n",
       "    .dataframe thead th {\n",
       "        text-align: right;\n",
       "    }\n",
       "</style>\n",
       "<table border=\"1\" class=\"dataframe\">\n",
       "  <thead>\n",
       "    <tr style=\"text-align: right;\">\n",
       "      <th>geo</th>\n",
       "      <th>AT</th>\n",
       "      <th>BE</th>\n",
       "      <th>BG</th>\n",
       "      <th>CH</th>\n",
       "      <th>CY</th>\n",
       "      <th>CZ</th>\n",
       "      <th>DE</th>\n",
       "      <th>DK</th>\n",
       "      <th>EE</th>\n",
       "      <th>EL</th>\n",
       "      <th>...</th>\n",
       "      <th>NO</th>\n",
       "      <th>PL</th>\n",
       "      <th>PT</th>\n",
       "      <th>RO</th>\n",
       "      <th>RS</th>\n",
       "      <th>SE</th>\n",
       "      <th>SI</th>\n",
       "      <th>SK</th>\n",
       "      <th>TR</th>\n",
       "      <th>UK</th>\n",
       "    </tr>\n",
       "  </thead>\n",
       "  <tbody>\n",
       "    <tr>\n",
       "      <th>2009</th>\n",
       "      <td>51.4</td>\n",
       "      <td>39.3</td>\n",
       "      <td>34.4</td>\n",
       "      <td>57.1</td>\n",
       "      <td>18.9</td>\n",
       "      <td>39.5</td>\n",
       "      <td>45.4</td>\n",
       "      <td>26.2</td>\n",
       "      <td>49.6</td>\n",
       "      <td>44.4</td>\n",
       "      <td>...</td>\n",
       "      <td>83.3</td>\n",
       "      <td>37.2</td>\n",
       "      <td>37.6</td>\n",
       "      <td>34.6</td>\n",
       "      <td>NaN</td>\n",
       "      <td>35.6</td>\n",
       "      <td>44.2</td>\n",
       "      <td>33.2</td>\n",
       "      <td>18.2</td>\n",
       "      <td>44.3</td>\n",
       "    </tr>\n",
       "    <tr>\n",
       "      <th>2010</th>\n",
       "      <td>31.1</td>\n",
       "      <td>46.1</td>\n",
       "      <td>36.4</td>\n",
       "      <td>68.9</td>\n",
       "      <td>20.9</td>\n",
       "      <td>60.0</td>\n",
       "      <td>48.4</td>\n",
       "      <td>25.6</td>\n",
       "      <td>43.4</td>\n",
       "      <td>31.2</td>\n",
       "      <td>...</td>\n",
       "      <td>75.0</td>\n",
       "      <td>39.1</td>\n",
       "      <td>39.7</td>\n",
       "      <td>35.4</td>\n",
       "      <td>38.4</td>\n",
       "      <td>55.6</td>\n",
       "      <td>41.8</td>\n",
       "      <td>37.0</td>\n",
       "      <td>16.4</td>\n",
       "      <td>41.2</td>\n",
       "    </tr>\n",
       "    <tr>\n",
       "      <th>2011</th>\n",
       "      <td>31.2</td>\n",
       "      <td>38.8</td>\n",
       "      <td>42.3</td>\n",
       "      <td>45.2</td>\n",
       "      <td>18.8</td>\n",
       "      <td>38.9</td>\n",
       "      <td>50.3</td>\n",
       "      <td>30.4</td>\n",
       "      <td>49.5</td>\n",
       "      <td>26.0</td>\n",
       "      <td>...</td>\n",
       "      <td>38.9</td>\n",
       "      <td>46.3</td>\n",
       "      <td>39.7</td>\n",
       "      <td>35.5</td>\n",
       "      <td>NaN</td>\n",
       "      <td>57.1</td>\n",
       "      <td>42.5</td>\n",
       "      <td>35.7</td>\n",
       "      <td>18.3</td>\n",
       "      <td>37.0</td>\n",
       "    </tr>\n",
       "    <tr>\n",
       "      <th>2012</th>\n",
       "      <td>37.5</td>\n",
       "      <td>43.3</td>\n",
       "      <td>38.8</td>\n",
       "      <td>52.9</td>\n",
       "      <td>20.6</td>\n",
       "      <td>38.9</td>\n",
       "      <td>33.5</td>\n",
       "      <td>34.2</td>\n",
       "      <td>44.9</td>\n",
       "      <td>29.6</td>\n",
       "      <td>...</td>\n",
       "      <td>34.8</td>\n",
       "      <td>39.2</td>\n",
       "      <td>42.0</td>\n",
       "      <td>33.8</td>\n",
       "      <td>NaN</td>\n",
       "      <td>36.7</td>\n",
       "      <td>42.9</td>\n",
       "      <td>37.3</td>\n",
       "      <td>18.4</td>\n",
       "      <td>43.5</td>\n",
       "    </tr>\n",
       "    <tr>\n",
       "      <th>2013</th>\n",
       "      <td>32.0</td>\n",
       "      <td>34.8</td>\n",
       "      <td>39.8</td>\n",
       "      <td>53.2</td>\n",
       "      <td>27.8</td>\n",
       "      <td>34.5</td>\n",
       "      <td>39.3</td>\n",
       "      <td>27.7</td>\n",
       "      <td>40.5</td>\n",
       "      <td>29.7</td>\n",
       "      <td>...</td>\n",
       "      <td>52.2</td>\n",
       "      <td>39.4</td>\n",
       "      <td>41.4</td>\n",
       "      <td>32.2</td>\n",
       "      <td>36.3</td>\n",
       "      <td>37.7</td>\n",
       "      <td>39.5</td>\n",
       "      <td>35.0</td>\n",
       "      <td>23.2</td>\n",
       "      <td>44.9</td>\n",
       "    </tr>\n",
       "  </tbody>\n",
       "</table>\n",
       "<p>5 rows × 36 columns</p>\n",
       "</div>"
      ],
      "text/plain": [
       "geo      AT    BE    BG    CH    CY    CZ    DE    DK    EE    EL  ...    NO  \\\n",
       "2009   51.4  39.3  34.4  57.1  18.9  39.5  45.4  26.2  49.6  44.4  ...  83.3   \n",
       "2010   31.1  46.1  36.4  68.9  20.9  60.0  48.4  25.6  43.4  31.2  ...  75.0   \n",
       "2011   31.2  38.8  42.3  45.2  18.8  38.9  50.3  30.4  49.5  26.0  ...  38.9   \n",
       "2012   37.5  43.3  38.8  52.9  20.6  38.9  33.5  34.2  44.9  29.6  ...  34.8   \n",
       "2013   32.0  34.8  39.8  53.2  27.8  34.5  39.3  27.7  40.5  29.7  ...  52.2   \n",
       "\n",
       "geo      PL    PT    RO    RS    SE    SI    SK    TR    UK  \n",
       "2009   37.2  37.6  34.6   NaN  35.6  44.2  33.2  18.2  44.3  \n",
       "2010   39.1  39.7  35.4  38.4  55.6  41.8  37.0  16.4  41.2  \n",
       "2011   46.3  39.7  35.5   NaN  57.1  42.5  35.7  18.3  37.0  \n",
       "2012   39.2  42.0  33.8   NaN  36.7  42.9  37.3  18.4  43.5  \n",
       "2013   39.4  41.4  32.2  36.3  37.7  39.5  35.0  23.2  44.9  \n",
       "\n",
       "[5 rows x 36 columns]"
      ]
     },
     "execution_count": 159,
     "metadata": {},
     "output_type": "execute_result"
    }
   ],
   "source": [
    "manager_group_t.head()"
   ]
  },
  {
   "cell_type": "code",
   "execution_count": null,
   "id": "hearing-words",
   "metadata": {},
   "outputs": [],
   "source": [
    "# parametro: país"
   ]
  },
  {
   "cell_type": "code",
   "execution_count": null,
   "id": "rational-polymer",
   "metadata": {},
   "outputs": [],
   "source": [
    "# https://stackoverflow.com/questions/57296683/adding-a-secondary-axis-in-plotly-python"
   ]
  },
  {
   "cell_type": "code",
   "execution_count": 124,
   "id": "enormous-enterprise",
   "metadata": {},
   "outputs": [
    {
     "data": {
      "application/vnd.plotly.v1+json": {
       "config": {
        "plotlyServerURL": "https://plot.ly"
       },
       "data": [
        {
         "name": "managerial position %",
         "type": "scatter",
         "x": [
          "2009 ",
          "2010 ",
          "2011 ",
          "2012 ",
          "2013 ",
          "2014 ",
          "2015 ",
          "2016 ",
          "2017 ",
          "2018 ",
          "2019 "
         ],
         "xaxis": "x",
         "y": [
          44.3,
          41.2,
          37,
          43.5,
          44.9,
          48.1,
          45,
          41.7,
          41.2,
          45.1,
          42.2
         ],
         "yaxis": "y"
        },
        {
         "name": "pib Million Euro",
         "type": "scatter",
         "x": [
          "2009 ",
          "2010 ",
          "2011 ",
          "2012 ",
          "2013 ",
          "2014 ",
          "2015 ",
          "2016 ",
          "2017 ",
          "2018 ",
          "2019 "
         ],
         "xaxis": "x",
         "y": [
          1738066.5,
          1872175.5,
          1912869.3,
          2111028.9,
          2096338,
          2311080.2,
          2644716.5,
          2434119.2,
          2359789.9,
          2420897.2,
          2526615.2
         ],
         "yaxis": "y2"
        }
       ],
       "layout": {
        "template": {
         "data": {
          "bar": [
           {
            "error_x": {
             "color": "#2a3f5f"
            },
            "error_y": {
             "color": "#2a3f5f"
            },
            "marker": {
             "line": {
              "color": "#E5ECF6",
              "width": 0.5
             }
            },
            "type": "bar"
           }
          ],
          "barpolar": [
           {
            "marker": {
             "line": {
              "color": "#E5ECF6",
              "width": 0.5
             }
            },
            "type": "barpolar"
           }
          ],
          "carpet": [
           {
            "aaxis": {
             "endlinecolor": "#2a3f5f",
             "gridcolor": "white",
             "linecolor": "white",
             "minorgridcolor": "white",
             "startlinecolor": "#2a3f5f"
            },
            "baxis": {
             "endlinecolor": "#2a3f5f",
             "gridcolor": "white",
             "linecolor": "white",
             "minorgridcolor": "white",
             "startlinecolor": "#2a3f5f"
            },
            "type": "carpet"
           }
          ],
          "choropleth": [
           {
            "colorbar": {
             "outlinewidth": 0,
             "ticks": ""
            },
            "type": "choropleth"
           }
          ],
          "contour": [
           {
            "colorbar": {
             "outlinewidth": 0,
             "ticks": ""
            },
            "colorscale": [
             [
              0,
              "#0d0887"
             ],
             [
              0.1111111111111111,
              "#46039f"
             ],
             [
              0.2222222222222222,
              "#7201a8"
             ],
             [
              0.3333333333333333,
              "#9c179e"
             ],
             [
              0.4444444444444444,
              "#bd3786"
             ],
             [
              0.5555555555555556,
              "#d8576b"
             ],
             [
              0.6666666666666666,
              "#ed7953"
             ],
             [
              0.7777777777777778,
              "#fb9f3a"
             ],
             [
              0.8888888888888888,
              "#fdca26"
             ],
             [
              1,
              "#f0f921"
             ]
            ],
            "type": "contour"
           }
          ],
          "contourcarpet": [
           {
            "colorbar": {
             "outlinewidth": 0,
             "ticks": ""
            },
            "type": "contourcarpet"
           }
          ],
          "heatmap": [
           {
            "colorbar": {
             "outlinewidth": 0,
             "ticks": ""
            },
            "colorscale": [
             [
              0,
              "#0d0887"
             ],
             [
              0.1111111111111111,
              "#46039f"
             ],
             [
              0.2222222222222222,
              "#7201a8"
             ],
             [
              0.3333333333333333,
              "#9c179e"
             ],
             [
              0.4444444444444444,
              "#bd3786"
             ],
             [
              0.5555555555555556,
              "#d8576b"
             ],
             [
              0.6666666666666666,
              "#ed7953"
             ],
             [
              0.7777777777777778,
              "#fb9f3a"
             ],
             [
              0.8888888888888888,
              "#fdca26"
             ],
             [
              1,
              "#f0f921"
             ]
            ],
            "type": "heatmap"
           }
          ],
          "heatmapgl": [
           {
            "colorbar": {
             "outlinewidth": 0,
             "ticks": ""
            },
            "colorscale": [
             [
              0,
              "#0d0887"
             ],
             [
              0.1111111111111111,
              "#46039f"
             ],
             [
              0.2222222222222222,
              "#7201a8"
             ],
             [
              0.3333333333333333,
              "#9c179e"
             ],
             [
              0.4444444444444444,
              "#bd3786"
             ],
             [
              0.5555555555555556,
              "#d8576b"
             ],
             [
              0.6666666666666666,
              "#ed7953"
             ],
             [
              0.7777777777777778,
              "#fb9f3a"
             ],
             [
              0.8888888888888888,
              "#fdca26"
             ],
             [
              1,
              "#f0f921"
             ]
            ],
            "type": "heatmapgl"
           }
          ],
          "histogram": [
           {
            "marker": {
             "colorbar": {
              "outlinewidth": 0,
              "ticks": ""
             }
            },
            "type": "histogram"
           }
          ],
          "histogram2d": [
           {
            "colorbar": {
             "outlinewidth": 0,
             "ticks": ""
            },
            "colorscale": [
             [
              0,
              "#0d0887"
             ],
             [
              0.1111111111111111,
              "#46039f"
             ],
             [
              0.2222222222222222,
              "#7201a8"
             ],
             [
              0.3333333333333333,
              "#9c179e"
             ],
             [
              0.4444444444444444,
              "#bd3786"
             ],
             [
              0.5555555555555556,
              "#d8576b"
             ],
             [
              0.6666666666666666,
              "#ed7953"
             ],
             [
              0.7777777777777778,
              "#fb9f3a"
             ],
             [
              0.8888888888888888,
              "#fdca26"
             ],
             [
              1,
              "#f0f921"
             ]
            ],
            "type": "histogram2d"
           }
          ],
          "histogram2dcontour": [
           {
            "colorbar": {
             "outlinewidth": 0,
             "ticks": ""
            },
            "colorscale": [
             [
              0,
              "#0d0887"
             ],
             [
              0.1111111111111111,
              "#46039f"
             ],
             [
              0.2222222222222222,
              "#7201a8"
             ],
             [
              0.3333333333333333,
              "#9c179e"
             ],
             [
              0.4444444444444444,
              "#bd3786"
             ],
             [
              0.5555555555555556,
              "#d8576b"
             ],
             [
              0.6666666666666666,
              "#ed7953"
             ],
             [
              0.7777777777777778,
              "#fb9f3a"
             ],
             [
              0.8888888888888888,
              "#fdca26"
             ],
             [
              1,
              "#f0f921"
             ]
            ],
            "type": "histogram2dcontour"
           }
          ],
          "mesh3d": [
           {
            "colorbar": {
             "outlinewidth": 0,
             "ticks": ""
            },
            "type": "mesh3d"
           }
          ],
          "parcoords": [
           {
            "line": {
             "colorbar": {
              "outlinewidth": 0,
              "ticks": ""
             }
            },
            "type": "parcoords"
           }
          ],
          "pie": [
           {
            "automargin": true,
            "type": "pie"
           }
          ],
          "scatter": [
           {
            "marker": {
             "colorbar": {
              "outlinewidth": 0,
              "ticks": ""
             }
            },
            "type": "scatter"
           }
          ],
          "scatter3d": [
           {
            "line": {
             "colorbar": {
              "outlinewidth": 0,
              "ticks": ""
             }
            },
            "marker": {
             "colorbar": {
              "outlinewidth": 0,
              "ticks": ""
             }
            },
            "type": "scatter3d"
           }
          ],
          "scattercarpet": [
           {
            "marker": {
             "colorbar": {
              "outlinewidth": 0,
              "ticks": ""
             }
            },
            "type": "scattercarpet"
           }
          ],
          "scattergeo": [
           {
            "marker": {
             "colorbar": {
              "outlinewidth": 0,
              "ticks": ""
             }
            },
            "type": "scattergeo"
           }
          ],
          "scattergl": [
           {
            "marker": {
             "colorbar": {
              "outlinewidth": 0,
              "ticks": ""
             }
            },
            "type": "scattergl"
           }
          ],
          "scattermapbox": [
           {
            "marker": {
             "colorbar": {
              "outlinewidth": 0,
              "ticks": ""
             }
            },
            "type": "scattermapbox"
           }
          ],
          "scatterpolar": [
           {
            "marker": {
             "colorbar": {
              "outlinewidth": 0,
              "ticks": ""
             }
            },
            "type": "scatterpolar"
           }
          ],
          "scatterpolargl": [
           {
            "marker": {
             "colorbar": {
              "outlinewidth": 0,
              "ticks": ""
             }
            },
            "type": "scatterpolargl"
           }
          ],
          "scatterternary": [
           {
            "marker": {
             "colorbar": {
              "outlinewidth": 0,
              "ticks": ""
             }
            },
            "type": "scatterternary"
           }
          ],
          "surface": [
           {
            "colorbar": {
             "outlinewidth": 0,
             "ticks": ""
            },
            "colorscale": [
             [
              0,
              "#0d0887"
             ],
             [
              0.1111111111111111,
              "#46039f"
             ],
             [
              0.2222222222222222,
              "#7201a8"
             ],
             [
              0.3333333333333333,
              "#9c179e"
             ],
             [
              0.4444444444444444,
              "#bd3786"
             ],
             [
              0.5555555555555556,
              "#d8576b"
             ],
             [
              0.6666666666666666,
              "#ed7953"
             ],
             [
              0.7777777777777778,
              "#fb9f3a"
             ],
             [
              0.8888888888888888,
              "#fdca26"
             ],
             [
              1,
              "#f0f921"
             ]
            ],
            "type": "surface"
           }
          ],
          "table": [
           {
            "cells": {
             "fill": {
              "color": "#EBF0F8"
             },
             "line": {
              "color": "white"
             }
            },
            "header": {
             "fill": {
              "color": "#C8D4E3"
             },
             "line": {
              "color": "white"
             }
            },
            "type": "table"
           }
          ]
         },
         "layout": {
          "annotationdefaults": {
           "arrowcolor": "#2a3f5f",
           "arrowhead": 0,
           "arrowwidth": 1
          },
          "autotypenumbers": "strict",
          "coloraxis": {
           "colorbar": {
            "outlinewidth": 0,
            "ticks": ""
           }
          },
          "colorscale": {
           "diverging": [
            [
             0,
             "#8e0152"
            ],
            [
             0.1,
             "#c51b7d"
            ],
            [
             0.2,
             "#de77ae"
            ],
            [
             0.3,
             "#f1b6da"
            ],
            [
             0.4,
             "#fde0ef"
            ],
            [
             0.5,
             "#f7f7f7"
            ],
            [
             0.6,
             "#e6f5d0"
            ],
            [
             0.7,
             "#b8e186"
            ],
            [
             0.8,
             "#7fbc41"
            ],
            [
             0.9,
             "#4d9221"
            ],
            [
             1,
             "#276419"
            ]
           ],
           "sequential": [
            [
             0,
             "#0d0887"
            ],
            [
             0.1111111111111111,
             "#46039f"
            ],
            [
             0.2222222222222222,
             "#7201a8"
            ],
            [
             0.3333333333333333,
             "#9c179e"
            ],
            [
             0.4444444444444444,
             "#bd3786"
            ],
            [
             0.5555555555555556,
             "#d8576b"
            ],
            [
             0.6666666666666666,
             "#ed7953"
            ],
            [
             0.7777777777777778,
             "#fb9f3a"
            ],
            [
             0.8888888888888888,
             "#fdca26"
            ],
            [
             1,
             "#f0f921"
            ]
           ],
           "sequentialminus": [
            [
             0,
             "#0d0887"
            ],
            [
             0.1111111111111111,
             "#46039f"
            ],
            [
             0.2222222222222222,
             "#7201a8"
            ],
            [
             0.3333333333333333,
             "#9c179e"
            ],
            [
             0.4444444444444444,
             "#bd3786"
            ],
            [
             0.5555555555555556,
             "#d8576b"
            ],
            [
             0.6666666666666666,
             "#ed7953"
            ],
            [
             0.7777777777777778,
             "#fb9f3a"
            ],
            [
             0.8888888888888888,
             "#fdca26"
            ],
            [
             1,
             "#f0f921"
            ]
           ]
          },
          "colorway": [
           "#636efa",
           "#EF553B",
           "#00cc96",
           "#ab63fa",
           "#FFA15A",
           "#19d3f3",
           "#FF6692",
           "#B6E880",
           "#FF97FF",
           "#FECB52"
          ],
          "font": {
           "color": "#2a3f5f"
          },
          "geo": {
           "bgcolor": "white",
           "lakecolor": "white",
           "landcolor": "#E5ECF6",
           "showlakes": true,
           "showland": true,
           "subunitcolor": "white"
          },
          "hoverlabel": {
           "align": "left"
          },
          "hovermode": "closest",
          "mapbox": {
           "style": "light"
          },
          "paper_bgcolor": "white",
          "plot_bgcolor": "#E5ECF6",
          "polar": {
           "angularaxis": {
            "gridcolor": "white",
            "linecolor": "white",
            "ticks": ""
           },
           "bgcolor": "#E5ECF6",
           "radialaxis": {
            "gridcolor": "white",
            "linecolor": "white",
            "ticks": ""
           }
          },
          "scene": {
           "xaxis": {
            "backgroundcolor": "#E5ECF6",
            "gridcolor": "white",
            "gridwidth": 2,
            "linecolor": "white",
            "showbackground": true,
            "ticks": "",
            "zerolinecolor": "white"
           },
           "yaxis": {
            "backgroundcolor": "#E5ECF6",
            "gridcolor": "white",
            "gridwidth": 2,
            "linecolor": "white",
            "showbackground": true,
            "ticks": "",
            "zerolinecolor": "white"
           },
           "zaxis": {
            "backgroundcolor": "#E5ECF6",
            "gridcolor": "white",
            "gridwidth": 2,
            "linecolor": "white",
            "showbackground": true,
            "ticks": "",
            "zerolinecolor": "white"
           }
          },
          "shapedefaults": {
           "line": {
            "color": "#2a3f5f"
           }
          },
          "ternary": {
           "aaxis": {
            "gridcolor": "white",
            "linecolor": "white",
            "ticks": ""
           },
           "baxis": {
            "gridcolor": "white",
            "linecolor": "white",
            "ticks": ""
           },
           "bgcolor": "#E5ECF6",
           "caxis": {
            "gridcolor": "white",
            "linecolor": "white",
            "ticks": ""
           }
          },
          "title": {
           "x": 0.05
          },
          "xaxis": {
           "automargin": true,
           "gridcolor": "white",
           "linecolor": "white",
           "ticks": "",
           "title": {
            "standoff": 15
           },
           "zerolinecolor": "white",
           "zerolinewidth": 2
          },
          "yaxis": {
           "automargin": true,
           "gridcolor": "white",
           "linecolor": "white",
           "ticks": "",
           "title": {
            "standoff": 15
           },
           "zerolinecolor": "white",
           "zerolinewidth": 2
          }
         }
        },
        "title": {
         "text": "Desarrollo / Managers"
        },
        "xaxis": {
         "anchor": "y",
         "domain": [
          0,
          0.94
         ],
         "title": {
          "text": "Years"
         }
        },
        "yaxis": {
         "anchor": "x",
         "domain": [
          0,
          1
         ]
        },
        "yaxis2": {
         "anchor": "x",
         "overlaying": "y",
         "side": "right"
        }
       }
      },
      "text/html": [
       "<div>                            <div id=\"33252b23-6775-4d01-ad99-2abdad966c45\" class=\"plotly-graph-div\" style=\"height:525px; width:100%;\"></div>            <script type=\"text/javascript\">                require([\"plotly\"], function(Plotly) {                    window.PLOTLYENV=window.PLOTLYENV || {};                                    if (document.getElementById(\"33252b23-6775-4d01-ad99-2abdad966c45\")) {                    Plotly.newPlot(                        \"33252b23-6775-4d01-ad99-2abdad966c45\",                        [{\"name\": \"managerial position %\", \"type\": \"scatter\", \"x\": [\"2009 \", \"2010 \", \"2011 \", \"2012 \", \"2013 \", \"2014 \", \"2015 \", \"2016 \", \"2017 \", \"2018 \", \"2019 \"], \"xaxis\": \"x\", \"y\": [44.3, 41.2, 37.0, 43.5, 44.9, 48.1, 45.0, 41.7, 41.2, 45.1, 42.2], \"yaxis\": \"y\"}, {\"name\": \"pib Million Euro\", \"type\": \"scatter\", \"x\": [\"2009 \", \"2010 \", \"2011 \", \"2012 \", \"2013 \", \"2014 \", \"2015 \", \"2016 \", \"2017 \", \"2018 \", \"2019 \"], \"xaxis\": \"x\", \"y\": [1738066.5, 1872175.5, 1912869.3, 2111028.9, 2096338.0, 2311080.2, 2644716.5, 2434119.2, 2359789.9, 2420897.2, 2526615.2], \"yaxis\": \"y2\"}],                        {\"template\": {\"data\": {\"bar\": [{\"error_x\": {\"color\": \"#2a3f5f\"}, \"error_y\": {\"color\": \"#2a3f5f\"}, \"marker\": {\"line\": {\"color\": \"#E5ECF6\", \"width\": 0.5}}, \"type\": \"bar\"}], \"barpolar\": [{\"marker\": {\"line\": {\"color\": \"#E5ECF6\", \"width\": 0.5}}, \"type\": \"barpolar\"}], \"carpet\": [{\"aaxis\": {\"endlinecolor\": \"#2a3f5f\", \"gridcolor\": \"white\", \"linecolor\": \"white\", \"minorgridcolor\": \"white\", \"startlinecolor\": \"#2a3f5f\"}, \"baxis\": {\"endlinecolor\": \"#2a3f5f\", \"gridcolor\": \"white\", \"linecolor\": \"white\", \"minorgridcolor\": \"white\", \"startlinecolor\": \"#2a3f5f\"}, \"type\": \"carpet\"}], \"choropleth\": [{\"colorbar\": {\"outlinewidth\": 0, \"ticks\": \"\"}, \"type\": \"choropleth\"}], \"contour\": [{\"colorbar\": {\"outlinewidth\": 0, \"ticks\": \"\"}, \"colorscale\": [[0.0, \"#0d0887\"], [0.1111111111111111, \"#46039f\"], [0.2222222222222222, \"#7201a8\"], [0.3333333333333333, \"#9c179e\"], [0.4444444444444444, \"#bd3786\"], [0.5555555555555556, \"#d8576b\"], [0.6666666666666666, \"#ed7953\"], [0.7777777777777778, \"#fb9f3a\"], [0.8888888888888888, \"#fdca26\"], [1.0, \"#f0f921\"]], \"type\": \"contour\"}], \"contourcarpet\": [{\"colorbar\": {\"outlinewidth\": 0, \"ticks\": \"\"}, \"type\": \"contourcarpet\"}], \"heatmap\": [{\"colorbar\": {\"outlinewidth\": 0, \"ticks\": \"\"}, \"colorscale\": [[0.0, \"#0d0887\"], [0.1111111111111111, \"#46039f\"], [0.2222222222222222, \"#7201a8\"], [0.3333333333333333, \"#9c179e\"], [0.4444444444444444, \"#bd3786\"], [0.5555555555555556, \"#d8576b\"], [0.6666666666666666, \"#ed7953\"], [0.7777777777777778, \"#fb9f3a\"], [0.8888888888888888, \"#fdca26\"], [1.0, \"#f0f921\"]], \"type\": \"heatmap\"}], \"heatmapgl\": [{\"colorbar\": {\"outlinewidth\": 0, \"ticks\": \"\"}, \"colorscale\": [[0.0, \"#0d0887\"], [0.1111111111111111, \"#46039f\"], [0.2222222222222222, \"#7201a8\"], [0.3333333333333333, \"#9c179e\"], [0.4444444444444444, \"#bd3786\"], [0.5555555555555556, \"#d8576b\"], [0.6666666666666666, \"#ed7953\"], [0.7777777777777778, \"#fb9f3a\"], [0.8888888888888888, \"#fdca26\"], [1.0, \"#f0f921\"]], \"type\": \"heatmapgl\"}], \"histogram\": [{\"marker\": {\"colorbar\": {\"outlinewidth\": 0, \"ticks\": \"\"}}, \"type\": \"histogram\"}], \"histogram2d\": [{\"colorbar\": {\"outlinewidth\": 0, \"ticks\": \"\"}, \"colorscale\": [[0.0, \"#0d0887\"], [0.1111111111111111, \"#46039f\"], [0.2222222222222222, \"#7201a8\"], [0.3333333333333333, \"#9c179e\"], [0.4444444444444444, \"#bd3786\"], [0.5555555555555556, \"#d8576b\"], [0.6666666666666666, \"#ed7953\"], [0.7777777777777778, \"#fb9f3a\"], [0.8888888888888888, \"#fdca26\"], [1.0, \"#f0f921\"]], \"type\": \"histogram2d\"}], \"histogram2dcontour\": [{\"colorbar\": {\"outlinewidth\": 0, \"ticks\": \"\"}, \"colorscale\": [[0.0, \"#0d0887\"], [0.1111111111111111, \"#46039f\"], [0.2222222222222222, \"#7201a8\"], [0.3333333333333333, \"#9c179e\"], [0.4444444444444444, \"#bd3786\"], [0.5555555555555556, \"#d8576b\"], [0.6666666666666666, \"#ed7953\"], [0.7777777777777778, \"#fb9f3a\"], [0.8888888888888888, \"#fdca26\"], [1.0, \"#f0f921\"]], \"type\": \"histogram2dcontour\"}], \"mesh3d\": [{\"colorbar\": {\"outlinewidth\": 0, \"ticks\": \"\"}, \"type\": \"mesh3d\"}], \"parcoords\": [{\"line\": {\"colorbar\": {\"outlinewidth\": 0, \"ticks\": \"\"}}, \"type\": \"parcoords\"}], \"pie\": [{\"automargin\": true, \"type\": \"pie\"}], \"scatter\": [{\"marker\": {\"colorbar\": {\"outlinewidth\": 0, \"ticks\": \"\"}}, \"type\": \"scatter\"}], \"scatter3d\": [{\"line\": {\"colorbar\": {\"outlinewidth\": 0, \"ticks\": \"\"}}, \"marker\": {\"colorbar\": {\"outlinewidth\": 0, \"ticks\": \"\"}}, \"type\": \"scatter3d\"}], \"scattercarpet\": [{\"marker\": {\"colorbar\": {\"outlinewidth\": 0, \"ticks\": \"\"}}, \"type\": \"scattercarpet\"}], \"scattergeo\": [{\"marker\": {\"colorbar\": {\"outlinewidth\": 0, \"ticks\": \"\"}}, \"type\": \"scattergeo\"}], \"scattergl\": [{\"marker\": {\"colorbar\": {\"outlinewidth\": 0, \"ticks\": \"\"}}, \"type\": \"scattergl\"}], \"scattermapbox\": [{\"marker\": {\"colorbar\": {\"outlinewidth\": 0, \"ticks\": \"\"}}, \"type\": \"scattermapbox\"}], \"scatterpolar\": [{\"marker\": {\"colorbar\": {\"outlinewidth\": 0, \"ticks\": \"\"}}, \"type\": \"scatterpolar\"}], \"scatterpolargl\": [{\"marker\": {\"colorbar\": {\"outlinewidth\": 0, \"ticks\": \"\"}}, \"type\": \"scatterpolargl\"}], \"scatterternary\": [{\"marker\": {\"colorbar\": {\"outlinewidth\": 0, \"ticks\": \"\"}}, \"type\": \"scatterternary\"}], \"surface\": [{\"colorbar\": {\"outlinewidth\": 0, \"ticks\": \"\"}, \"colorscale\": [[0.0, \"#0d0887\"], [0.1111111111111111, \"#46039f\"], [0.2222222222222222, \"#7201a8\"], [0.3333333333333333, \"#9c179e\"], [0.4444444444444444, \"#bd3786\"], [0.5555555555555556, \"#d8576b\"], [0.6666666666666666, \"#ed7953\"], [0.7777777777777778, \"#fb9f3a\"], [0.8888888888888888, \"#fdca26\"], [1.0, \"#f0f921\"]], \"type\": \"surface\"}], \"table\": [{\"cells\": {\"fill\": {\"color\": \"#EBF0F8\"}, \"line\": {\"color\": \"white\"}}, \"header\": {\"fill\": {\"color\": \"#C8D4E3\"}, \"line\": {\"color\": \"white\"}}, \"type\": \"table\"}]}, \"layout\": {\"annotationdefaults\": {\"arrowcolor\": \"#2a3f5f\", \"arrowhead\": 0, \"arrowwidth\": 1}, \"autotypenumbers\": \"strict\", \"coloraxis\": {\"colorbar\": {\"outlinewidth\": 0, \"ticks\": \"\"}}, \"colorscale\": {\"diverging\": [[0, \"#8e0152\"], [0.1, \"#c51b7d\"], [0.2, \"#de77ae\"], [0.3, \"#f1b6da\"], [0.4, \"#fde0ef\"], [0.5, \"#f7f7f7\"], [0.6, \"#e6f5d0\"], [0.7, \"#b8e186\"], [0.8, \"#7fbc41\"], [0.9, \"#4d9221\"], [1, \"#276419\"]], \"sequential\": [[0.0, \"#0d0887\"], [0.1111111111111111, \"#46039f\"], [0.2222222222222222, \"#7201a8\"], [0.3333333333333333, \"#9c179e\"], [0.4444444444444444, \"#bd3786\"], [0.5555555555555556, \"#d8576b\"], [0.6666666666666666, \"#ed7953\"], [0.7777777777777778, \"#fb9f3a\"], [0.8888888888888888, \"#fdca26\"], [1.0, \"#f0f921\"]], \"sequentialminus\": [[0.0, \"#0d0887\"], [0.1111111111111111, \"#46039f\"], [0.2222222222222222, \"#7201a8\"], [0.3333333333333333, \"#9c179e\"], [0.4444444444444444, \"#bd3786\"], [0.5555555555555556, \"#d8576b\"], [0.6666666666666666, \"#ed7953\"], [0.7777777777777778, \"#fb9f3a\"], [0.8888888888888888, \"#fdca26\"], [1.0, \"#f0f921\"]]}, \"colorway\": [\"#636efa\", \"#EF553B\", \"#00cc96\", \"#ab63fa\", \"#FFA15A\", \"#19d3f3\", \"#FF6692\", \"#B6E880\", \"#FF97FF\", \"#FECB52\"], \"font\": {\"color\": \"#2a3f5f\"}, \"geo\": {\"bgcolor\": \"white\", \"lakecolor\": \"white\", \"landcolor\": \"#E5ECF6\", \"showlakes\": true, \"showland\": true, \"subunitcolor\": \"white\"}, \"hoverlabel\": {\"align\": \"left\"}, \"hovermode\": \"closest\", \"mapbox\": {\"style\": \"light\"}, \"paper_bgcolor\": \"white\", \"plot_bgcolor\": \"#E5ECF6\", \"polar\": {\"angularaxis\": {\"gridcolor\": \"white\", \"linecolor\": \"white\", \"ticks\": \"\"}, \"bgcolor\": \"#E5ECF6\", \"radialaxis\": {\"gridcolor\": \"white\", \"linecolor\": \"white\", \"ticks\": \"\"}}, \"scene\": {\"xaxis\": {\"backgroundcolor\": \"#E5ECF6\", \"gridcolor\": \"white\", \"gridwidth\": 2, \"linecolor\": \"white\", \"showbackground\": true, \"ticks\": \"\", \"zerolinecolor\": \"white\"}, \"yaxis\": {\"backgroundcolor\": \"#E5ECF6\", \"gridcolor\": \"white\", \"gridwidth\": 2, \"linecolor\": \"white\", \"showbackground\": true, \"ticks\": \"\", \"zerolinecolor\": \"white\"}, \"zaxis\": {\"backgroundcolor\": \"#E5ECF6\", \"gridcolor\": \"white\", \"gridwidth\": 2, \"linecolor\": \"white\", \"showbackground\": true, \"ticks\": \"\", \"zerolinecolor\": \"white\"}}, \"shapedefaults\": {\"line\": {\"color\": \"#2a3f5f\"}}, \"ternary\": {\"aaxis\": {\"gridcolor\": \"white\", \"linecolor\": \"white\", \"ticks\": \"\"}, \"baxis\": {\"gridcolor\": \"white\", \"linecolor\": \"white\", \"ticks\": \"\"}, \"bgcolor\": \"#E5ECF6\", \"caxis\": {\"gridcolor\": \"white\", \"linecolor\": \"white\", \"ticks\": \"\"}}, \"title\": {\"x\": 0.05}, \"xaxis\": {\"automargin\": true, \"gridcolor\": \"white\", \"linecolor\": \"white\", \"ticks\": \"\", \"title\": {\"standoff\": 15}, \"zerolinecolor\": \"white\", \"zerolinewidth\": 2}, \"yaxis\": {\"automargin\": true, \"gridcolor\": \"white\", \"linecolor\": \"white\", \"ticks\": \"\", \"title\": {\"standoff\": 15}, \"zerolinecolor\": \"white\", \"zerolinewidth\": 2}}}, \"title\": {\"text\": \"Desarrollo / Managers\"}, \"xaxis\": {\"anchor\": \"y\", \"domain\": [0.0, 0.94], \"title\": {\"text\": \"Years\"}}, \"yaxis\": {\"anchor\": \"x\", \"domain\": [0.0, 1.0]}, \"yaxis2\": {\"anchor\": \"x\", \"overlaying\": \"y\", \"side\": \"right\"}},                        {\"responsive\": true}                    ).then(function(){\n",
       "                            \n",
       "var gd = document.getElementById('33252b23-6775-4d01-ad99-2abdad966c45');\n",
       "var x = new MutationObserver(function (mutations, observer) {{\n",
       "        var display = window.getComputedStyle(gd).display;\n",
       "        if (!display || display === 'none') {{\n",
       "            console.log([gd, 'removed!']);\n",
       "            Plotly.purge(gd);\n",
       "            observer.disconnect();\n",
       "        }}\n",
       "}});\n",
       "\n",
       "// Listen for the removal of the full notebook cells\n",
       "var notebookContainer = gd.closest('#notebook-container');\n",
       "if (notebookContainer) {{\n",
       "    x.observe(notebookContainer, {childList: true});\n",
       "}}\n",
       "\n",
       "// Listen for the clearing of the current output cell\n",
       "var outputEl = gd.closest('.output');\n",
       "if (outputEl) {{\n",
       "    x.observe(outputEl, {childList: true});\n",
       "}}\n",
       "\n",
       "                        })                };                });            </script>        </div>"
      ]
     },
     "metadata": {},
     "output_type": "display_data"
    }
   ],
   "source": [
    "import plotly.graph_objects as go\n",
    "from plotly.subplots import make_subplots\n",
    "\n",
    "# Create figure with secondary y-axis\n",
    "fig = make_subplots(specs=[[{\"secondary_y\": True}]])\n",
    "\n",
    "# Add traces\n",
    "fig.add_trace(\n",
    "    go.Scatter(x=manager_group_t.index, y = manager_group_t['UK'], name=\"managerial position %\"),\n",
    "    secondary_y=False,\n",
    ")\n",
    "\n",
    "fig.add_trace(\n",
    "    go.Scatter(x=gdp_to_paint.index, y = gdp_to_paint['UK'], name=\"pib Million Euro\"),\n",
    "    secondary_y=True,\n",
    ")\n",
    "\n",
    "# Add figure title\n",
    "fig.update_layout(\n",
    "    title_text=\"Desarrollo / Managers\"\n",
    ")\n",
    "\n",
    "# Set x-axis title\n",
    "fig.update_xaxes(title_text=\"Years\")\n",
    "\n",
    "\n",
    "\n",
    "fig.show()"
   ]
  },
  {
   "cell_type": "markdown",
   "id": "economic-mumbai",
   "metadata": {},
   "source": [
    "### más educación >> más mujeres en puestos de responsabilidad"
   ]
  }
 ],
 "metadata": {
  "kernelspec": {
   "display_name": "Python 3",
   "language": "python",
   "name": "python3"
  },
  "language_info": {
   "codemirror_mode": {
    "name": "ipython",
    "version": 3
   },
   "file_extension": ".py",
   "mimetype": "text/x-python",
   "name": "python",
   "nbconvert_exporter": "python",
   "pygments_lexer": "ipython3",
   "version": "3.8.6"
  }
 },
 "nbformat": 4,
 "nbformat_minor": 5
}
